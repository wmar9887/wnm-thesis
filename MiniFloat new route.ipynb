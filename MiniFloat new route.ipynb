{
 "cells": [
  {
   "cell_type": "code",
   "execution_count": 21,
   "id": "41831517",
   "metadata": {},
   "outputs": [],
   "source": [
    "import math"
   ]
  },
  {
   "cell_type": "code",
   "execution_count": 159,
   "id": "7007c2f9",
   "metadata": {},
   "outputs": [],
   "source": [
    "def dec_to_bin(decimal, rounding = 1, ebits=4, mbits=3):\n",
    "    \n",
    "    bias = 2**(4-1) - 1\n",
    "    \n",
    "    sign = 0\n",
    "    if decimal >= 0:\n",
    "        sign = 0\n",
    "    else:\n",
    "        sign = 1\n",
    "    \n",
    "    w_n = math.floor(decimal)\n",
    "    print(bin(w_n)[2:].zfill(4))\n",
    "    \n",
    "    f_n  = round(decimal - w_n, 9)\n",
    "    count = 0\n",
    "    fp_form = 0\n",
    "    f_n_rubbish = f_n\n",
    "    while f_n_rubbish > 0 and count < 10:\n",
    "        f_n_rubbish = f_n_rubbish * 2\n",
    "        if f_n_rubbish >= 1:\n",
    "            fp_form  = (fp_form << 1) + 1\n",
    "            f_n_rubbish  -= 1\n",
    "        else:\n",
    "            fp_form = (fp_form << 1)\n",
    "        count += 1\n",
    "            \n",
    "    print(bin(fp_form)[2:].zfill(3))\n",
    "    \n",
    " \n",
    "    \n",
    "    count = 0\n",
    "    shift_wn = w_n\n",
    "    while shift_wn > 1:\n",
    "        shift_wn = shift_wn >> 1\n",
    "        count += 1\n",
    "    \n",
    "    print(count)\n",
    "    \n",
    "    exponent = bin(count + bias)[2:]\n",
    "    print(exponent)\n",
    "        \n",
    "    return w_n, f_n"
   ]
  },
  {
   "cell_type": "code",
   "execution_count": 160,
   "id": "daf09d57",
   "metadata": {
    "scrolled": false
   },
   "outputs": [
    {
     "name": "stdout",
     "output_type": "stream",
     "text": [
      "100100\n",
      "110011001\n",
      "5\n",
      "1100\n",
      "(36, 0.4)\n"
     ]
    }
   ],
   "source": [
    "print(dec_to_bin(36.4))"
   ]
  },
  {
   "cell_type": "code",
   "execution_count": null,
   "id": "4ab9e90a",
   "metadata": {},
   "outputs": [],
   "source": []
  },
  {
   "cell_type": "code",
   "execution_count": 138,
   "id": "8a5c6dfd",
   "metadata": {},
   "outputs": [],
   "source": [
    "def float_to_ieee754(num):\n",
    "    # Step 1: Set the sign bit\n",
    "    if num < 0:\n",
    "        sign_bit = 1\n",
    "        num = -num\n",
    "    else:\n",
    "        sign_bit = 0\n",
    "\n",
    "    # Step 2: Divide into whole and fractional parts\n",
    "    whole_part = int(num)\n",
    "    fractional_part = num - whole_part\n",
    "\n",
    "    # Step 3: Convert to binary\n",
    "    whole_binary = bin(whole_part)[2:]  # Convert whole part to binary and remove '0b'\n",
    "    fractional_binary = []\n",
    "\n",
    "    # Convert fractional part to binary\n",
    "    while fractional_part and len(fractional_binary) < 3:\n",
    "        fractional_part *= 2\n",
    "        bit = int(fractional_part)\n",
    "        fractional_binary.append(str(bit))\n",
    "        fractional_part -= bit\n",
    "\n",
    "    fractional_binary = ''.join(fractional_binary)\n",
    "\n",
    "    # Combine whole and fractional parts\n",
    "    binary_representation = whole_binary + '.' + fractional_binary\n",
    "    print(binary_representation)\n",
    "\n",
    "    # Step 4: Work out the exponent\n",
    "    if '1' in whole_binary:\n",
    "        first_one_index = whole_binary.index('1')\n",
    "        exponent = len(whole_binary) - first_one_index - 1\n",
    "    else:\n",
    "        first_one_index = fractional_binary.index('1') + 1\n",
    "        exponent = -first_one_index\n",
    "\n",
    "    exponent += 7  # Add bias\n",
    "    exponent_binary = bin(exponent)[2:].zfill(4)  # Convert to binary and pad to 4 bits\n",
    "\n",
    "    # Step 5: Format the mantissa\n",
    "    if whole_binary:\n",
    "        mantissa = whole_binary[first_one_index + 1:] + fractional_binary\n",
    "    else:\n",
    "        mantissa = fractional_binary[first_one_index:]\n",
    "\n",
    "    mantissa = mantissa.ljust(3, '0')  # Ensure it's 3 bits long\n",
    "\n",
    "    # Combine all parts\n",
    "    ieee754_binary = f\"{sign_bit}{exponent_binary}{mantissa[:3]}\"\n",
    "    \n",
    "    return ieee754_binary"
   ]
  },
  {
   "cell_type": "code",
   "execution_count": 158,
   "id": "30c9379e",
   "metadata": {},
   "outputs": [
    {
     "name": "stdout",
     "output_type": "stream",
     "text": [
      "100100.011\n",
      "IEEE 754 representation of 36.4: 01100001\n"
     ]
    }
   ],
   "source": [
    "num = 36.4\n",
    "binary_representation = float_to_ieee754(num)\n",
    "print(f\"IEEE 754 representation of {num}: {binary_representation}\")"
   ]
  },
  {
   "cell_type": "code",
   "execution_count": null,
   "id": "4fff477f",
   "metadata": {},
   "outputs": [],
   "source": [
    "\n"
   ]
  },
  {
   "cell_type": "code",
   "execution_count": 161,
   "id": "7a275923",
   "metadata": {},
   "outputs": [
    {
     "name": "stdout",
     "output_type": "stream",
     "text": [
      "Binary representation: 101.11\n",
      "Sign bit: 0\n",
      "Exponent: 9 (binary: 1001)\n",
      "Mantissa: 011\n",
      "Sign: 0, Exponent: 1001, Mantissa: 011\n"
     ]
    }
   ],
   "source": [
    "def float_to_ieee754(num):\n",
    "    # Step 1: Set the sign bit\n",
    "    if num < 0:\n",
    "        sign_bit = 1\n",
    "        num = -num\n",
    "    else:\n",
    "        sign_bit = 0\n",
    "\n",
    "    # Step 2: Divide into whole and fractional parts\n",
    "    whole_part = int(num)\n",
    "    fractional_part = num - whole_part\n",
    "\n",
    "    # Step 3: Convert to binary\n",
    "    whole_binary = bin(whole_part)[2:]  # Convert whole part to binary and remove '0b'\n",
    "    fractional_binary = []\n",
    "\n",
    "    # Convert fractional part to binary\n",
    "    while fractional_part and len(fractional_binary) < 3:\n",
    "        fractional_part *= 2\n",
    "        bit = int(fractional_part)\n",
    "        fractional_binary.append(str(bit))\n",
    "        fractional_part -= bit\n",
    "\n",
    "    fractional_binary = ''.join(fractional_binary)\n",
    "\n",
    "    # Combine whole and fractional parts\n",
    "    binary_representation = whole_binary + '.' + fractional_binary\n",
    "    print(f\"Binary representation: {binary_representation}\")\n",
    "\n",
    "    # Step 4: Work out the exponent\n",
    "    if '1' in whole_binary:\n",
    "        first_one_index = whole_binary.index('1')\n",
    "        exponent = len(whole_binary) - first_one_index - 1\n",
    "    else:\n",
    "        first_one_index = fractional_binary.index('1') + 1\n",
    "        exponent = -first_one_index\n",
    "\n",
    "    exponent += 7  # Add bias\n",
    "    exponent_binary = bin(exponent)[2:].zfill(4)  # Convert to binary and pad to 4 bits\n",
    "\n",
    "    # Step 5: Format the mantissa\n",
    "    if whole_binary:\n",
    "        mantissa = whole_binary[first_one_index + 1:] + fractional_binary\n",
    "    else:\n",
    "        mantissa = fractional_binary[first_one_index:]\n",
    "\n",
    "    mantissa = mantissa.ljust(3, '0')  # Ensure it's 3 bits long\n",
    "\n",
    "    # Output the floating-point representation components\n",
    "    print(f\"Sign bit: {sign_bit}\")\n",
    "    print(f\"Exponent: {exponent} (binary: {exponent_binary})\")\n",
    "    print(f\"Mantissa: {mantissa[:3]}\")\n",
    "\n",
    "    return f\"Sign: {sign_bit}, Exponent: {exponent_binary}, Mantissa: {mantissa[:3]}\"\n",
    "\n",
    "# Example usage\n",
    "result = float_to_ieee754(5.75)\n",
    "print(result)"
   ]
  },
  {
   "cell_type": "code",
   "execution_count": null,
   "id": "00e2e7b4",
   "metadata": {},
   "outputs": [],
   "source": []
  }
 ],
 "metadata": {
  "kernelspec": {
   "display_name": "Python 3 (ipykernel)",
   "language": "python",
   "name": "python3"
  },
  "language_info": {
   "codemirror_mode": {
    "name": "ipython",
    "version": 3
   },
   "file_extension": ".py",
   "mimetype": "text/x-python",
   "name": "python",
   "nbconvert_exporter": "python",
   "pygments_lexer": "ipython3",
   "version": "3.10.12"
  }
 },
 "nbformat": 4,
 "nbformat_minor": 5
}
