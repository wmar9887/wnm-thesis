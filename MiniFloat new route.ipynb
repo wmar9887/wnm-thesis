{
 "cells": [
  {
   "cell_type": "code",
   "execution_count": 145,
   "id": "41831517",
   "metadata": {},
   "outputs": [],
   "source": [
    "import math"
   ]
  },
  {
   "cell_type": "code",
   "execution_count": 146,
   "id": "f9119ac8-0978-4035-b10e-0a628d5f782a",
   "metadata": {},
   "outputs": [],
   "source": [
    "def decimal_to_MF(decimal, rounding=1, ebits=4, mbits=3):\n",
    "    \n",
    "    bias = 2**(ebits - 1) - 1\n",
    "    \n",
    "    sign = 0\n",
    "    if decimal >= 0:\n",
    "        sign = 0\n",
    "    else:\n",
    "        sign = 1\n",
    "        decimal *= -1\n",
    "        \n",
    "    whole_dec = int(decimal)\n",
    "    frac_dec = abs(decimal - whole_dec)\n",
    "\n",
    "    whole_bin = bin(whole_dec)[2:]\n",
    "    frac_bin = []\n",
    "\n",
    "    while frac_dec:\n",
    "        frac_dec *= 2\n",
    "        bit = int(frac_dec)\n",
    "        frac_bin.append(str(bit))\n",
    "        frac_dec -= bit\n",
    "\n",
    "    frac_bin = ''.join(frac_bin)\n",
    "\n",
    "    binary_representation = whole_bin + '.' + frac_bin\n",
    "    print(f\"Binary representation: {binary_representation}\")\n",
    "\n",
    "    if '1' in whole_bin:\n",
    "        first_one_index = whole_bin.index('1')\n",
    "        exp = len(whole_bin) - first_one_index - 1\n",
    "        man_bin = whole_bin[first_one_index + 1:] + frac_bin\n",
    "    else:\n",
    "        first_one_index = frac_bin.index('1')\n",
    "        exp = -(first_one_index + 1)\n",
    "        man_bin = frac_bin[first_one_index + 1:]\n",
    "        \n",
    "    print(f\"Normalized Binary: 1.{man_bin}\")\n",
    "\n",
    "    exp += bias  # Add bias\n",
    "\n",
    "\n",
    "    # Truncate the mantissa to 4 bits (we will use the 4th bit for rounding)\n",
    "    man_trunc = man_bin[:mbits+1]\n",
    "    \n",
    "    print(f\"Truncated Mantissa: {man_trunc}\")    \n",
    "    \n",
    "    # Rounding: check the 4th bit\n",
    "    man_round = 0\n",
    "    if len(man_trunc) == mbits+1 and man_trunc[3] == '1':\n",
    "        # Convert the first 3 bits to an integer and add 1 to round up\n",
    "        man_round = int(man_trunc[:-1], 2) + 1\n",
    "        if man_round == (1 << mbits):\n",
    "            exp += 1\n",
    "            man_round = 0\n",
    "    else:\n",
    "        # No rounding needed, just take the first 3 bits\n",
    "        man_round = int(man_trunc[:-1],2)\n",
    "        \n",
    "    man_bin = bin(man_round)[2:].zfill(mbits)\n",
    "    exp_bin = bin(exp)[2:].zfill(ebits)  # Convert to binary and pad to 4 bits\n",
    "    \n",
    "    # Output the floating-point representation components\n",
    "    if (sign):\n",
    "        print(f\"Sign bit: - (binary {sign})\")\n",
    "    else:\n",
    "        print(f\"Sign bit: + (binary {sign})\")\n",
    "    print(f\"Exponent: {exp} (binary: {exp_bin})\")\n",
    "    print(f\"Mantissa: {man_round} (binary: {man_bin})\")\n",
    "\n",
    "    \n",
    "\n",
    "    if (exp == 0b0):\n",
    "        sum = 0 + man_round * 2**-mbits\n",
    "        result = ((-1)**sign)*2**(1-bias)*sum\n",
    "\n",
    "    else:\n",
    "        sum = 1 + man_round * 2**-mbits\n",
    "        result = ((-1)**sign)*2**(exp - bias)*sum\n",
    "\n",
    "    return f\"{sign} {exp_bin} {man_bin} = {result}\""
   ]
  },
  {
   "cell_type": "code",
   "execution_count": 149,
   "id": "10d8dd63-f85c-4cac-b228-c106aaa46649",
   "metadata": {},
   "outputs": [
    {
     "name": "stdout",
     "output_type": "stream",
     "text": [
      "Binary representation: 0.0001011010000111001010110000001000001100010010011011101\n",
      "Normalized Binary: 1.011010000111001010110000001000001100010010011011101\n",
      "Truncated Mantissa: 0110\n",
      "Sign bit: - (binary 1)\n",
      "Exponent: 3 (binary: 0011)\n",
      "Mantissa: 3 (binary: 011)\n"
     ]
    },
    {
     "data": {
      "text/plain": [
       "'1 0011 011 = -0.0859375'"
      ]
     },
     "execution_count": 149,
     "metadata": {},
     "output_type": "execute_result"
    }
   ],
   "source": [
    "input_float = -0.088\n",
    "decimal_to_MF(input_float)"
   ]
  }
 ],
 "metadata": {
  "kernelspec": {
   "display_name": "Python 3 (ipykernel)",
   "language": "python",
   "name": "python3"
  },
  "language_info": {
   "codemirror_mode": {
    "name": "ipython",
    "version": 3
   },
   "file_extension": ".py",
   "mimetype": "text/x-python",
   "name": "python",
   "nbconvert_exporter": "python",
   "pygments_lexer": "ipython3",
   "version": "3.10.12"
  }
 },
 "nbformat": 4,
 "nbformat_minor": 5
}
